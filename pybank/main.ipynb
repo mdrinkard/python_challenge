{
 "cells": [
  {
   "cell_type": "code",
   "execution_count": 1,
   "metadata": {},
   "outputs": [],
   "source": [
    "### Imports ###\n",
    "import pandas as pd\n",
    "from pathlib import Path\n"
   ]
  },
  {
   "cell_type": "code",
   "execution_count": 2,
   "metadata": {},
   "outputs": [],
   "source": [
    "### Defining Variable for my filepath and using pandas to create a dataframe ###\n",
    "filepath = Path(r\"C:\\Users\\Micha\\Documents\\Module 2 Hwk\\python_challenge\\pybank\\Resources\\budget_data.csv\")\n",
    "df = pd.read_csv(filepath)\n",
    "file_path_test = Path(r'C:\\Users\\Micha\\Documents\\Module 2 Hwk\\python_challenge\\pybank\\Resources\\budget_data_1.csv')\n",
    "df_1 = pd.read_csv(file_path_test)"
   ]
  },
  {
   "cell_type": "code",
   "execution_count": 3,
   "metadata": {},
   "outputs": [
    {
     "data": {
      "text/plain": [
       "86"
      ]
     },
     "execution_count": 3,
     "metadata": {},
     "output_type": "execute_result"
    }
   ],
   "source": [
    "df_1['Date'].duplicated().count()\n"
   ]
  },
  {
   "cell_type": "code",
   "execution_count": 4,
   "metadata": {},
   "outputs": [
    {
     "name": "stdout",
     "output_type": "stream",
     "text": [
      "<class 'str'> <class 'numpy.int64'>\n"
     ]
    }
   ],
   "source": [
    "print(type(df['Date'][0]), type(df['Profit/Losses'][0]))\n"
   ]
  },
  {
   "cell_type": "code",
   "execution_count": 5,
   "metadata": {},
   "outputs": [
    {
     "name": "stdout",
     "output_type": "stream",
     "text": [
      "86\n"
     ]
    }
   ],
   "source": [
    "### Defining variable for number of months in the report ###\n",
    "date_count = df['Date'].count()\n",
    "print(date_count)"
   ]
  },
  {
   "cell_type": "code",
   "execution_count": 6,
   "metadata": {},
   "outputs": [
    {
     "name": "stdout",
     "output_type": "stream",
     "text": [
      "38382578\n"
     ]
    }
   ],
   "source": [
    "### Defining variable for total profits ###\n",
    "net_total_profits = df['Profit/Losses'].sum()\n",
    "print(net_total_profits)"
   ]
  },
  {
   "cell_type": "code",
   "execution_count": 7,
   "metadata": {},
   "outputs": [
    {
     "name": "stdout",
     "output_type": "stream",
     "text": [
      "446309.0465116279\n"
     ]
    }
   ],
   "source": [
    "### Defining variable for average profits for the period ###\n",
    "Avg_of_changes = df['Profit/Losses'].mean()\n",
    "print(Avg_of_changes)"
   ]
  },
  {
   "cell_type": "code",
   "execution_count": 8,
   "metadata": {},
   "outputs": [],
   "source": [
    "### Defining Variables for the Greatest Increase in Sales month and value ###\n",
    "max_sales_row = df[df['Profit/Losses'] == df['Profit/Losses'].max()]\n",
    "max_sales = max_sales_row['Profit/Losses'].values[0]\n",
    "max_sales_month = max_sales_row['Date'].values[0]"
   ]
  },
  {
   "cell_type": "code",
   "execution_count": 9,
   "metadata": {},
   "outputs": [],
   "source": [
    "### Defining Variables for the Greatest Decrease in Sales month and value ###\n",
    "min_sales_row = df[df['Profit/Losses'] == df['Profit/Losses'].min()]\n",
    "min_sales = min_sales_row['Profit/Losses'].values[0]\n",
    "min_sales_month = min_sales_row['Date'].values[0]"
   ]
  },
  {
   "cell_type": "code",
   "execution_count": 10,
   "metadata": {},
   "outputs": [],
   "source": [
    "### Printing out a txt.file with the below text and calculated variables ###\n",
    "with open('analysis.txt', 'w') as txt_file:\n",
    "    txt_file.write(f'Financial Analysis\\n')\n",
    "    txt_file.write(f'----------------------------\\n')\n",
    "    txt_file.write(f'Total Months: {date_count}\\n')\n",
    "    txt_file.write(f'Total: ${net_total_profits}\\n')\n",
    "    txt_file.write(f'Average Change: ${round(Avg_of_changes, 2)}\\n')\n",
    "    txt_file.write(f'Greatest Increase in Profits: {max_sales_month} (${max_sales})\\n')\n",
    "    txt_file.write(f'Greatest Decrease in Profits: {min_sales_month} (${min_sales})\\n')\n",
    "txt_file.close()\n"
   ]
  }
 ],
 "metadata": {
  "kernelspec": {
   "display_name": "Python 3",
   "language": "python",
   "name": "python3"
  },
  "language_info": {
   "codemirror_mode": {
    "name": "ipython",
    "version": 3
   },
   "file_extension": ".py",
   "mimetype": "text/x-python",
   "name": "python",
   "nbconvert_exporter": "python",
   "pygments_lexer": "ipython3",
   "version": "3.11.5"
  },
  "orig_nbformat": 4
 },
 "nbformat": 4,
 "nbformat_minor": 2
}
